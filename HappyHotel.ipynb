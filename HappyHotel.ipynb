{
 "cells": [
  {
   "cell_type": "code",
   "execution_count": 531,
   "metadata": {},
   "outputs": [],
   "source": [
    "import numpy as np\n",
    "import pandas as pd\n",
    "import string\n",
    "\n",
    "import gensim\n",
    "from gensim.utils import simple_preprocess\n",
    "from gensim import corpora, models\n",
    "\n",
    "from nltk.stem import WordNetLemmatizer, SnowballStemmer\n",
    "from nltk.corpus import stopwords\n",
    "from nltk.tokenize import word_tokenize\n",
    "from gensim import corpora, models\n",
    "\n",
    "\n",
    "from sklearn.feature_extraction.text import TfidfVectorizer, CountVectorizer\n",
    "from sklearn.decomposition import NMF, LatentDirichletAllocation\n",
    "\n",
    "import matplotlib.pyplot as plt\n",
    "import seaborn as sns\n",
    "sns.set(context='notebook', style='white', palette='deep', font_scale=1.5, color_codes=True)"
   ]
  },
  {
   "cell_type": "markdown",
   "metadata": {},
   "source": [
    "### Lemmatize"
   ]
  },
  {
   "cell_type": "code",
   "execution_count": 62,
   "metadata": {},
   "outputs": [
    {
     "name": "stderr",
     "output_type": "stream",
     "text": [
      "[nltk_data] Downloading package wordnet to\n",
      "[nltk_data]     /Users/andrewblaikie/nltk_data...\n",
      "[nltk_data]   Package wordnet is already up-to-date!\n",
      "[nltk_data] Downloading package stopwords to\n",
      "[nltk_data]     /Users/andrewblaikie/nltk_data...\n",
      "[nltk_data]   Unzipping corpora/stopwords.zip.\n"
     ]
    },
    {
     "data": {
      "text/plain": [
       "True"
      ]
     },
     "execution_count": 62,
     "metadata": {},
     "output_type": "execute_result"
    }
   ],
   "source": [
    "import nltk\n",
    "nltk.download('wordnet')\n",
    "nltk.download('stopwords')"
   ]
  },
  {
   "cell_type": "code",
   "execution_count": 38,
   "metadata": {},
   "outputs": [
    {
     "name": "stdout",
     "output_type": "stream",
     "text": [
      "snake\n"
     ]
    }
   ],
   "source": [
    "lemma = WordNetLemmatizer()\n",
    "print(lemmatizer.lemmatize('snakes'))"
   ]
  },
  {
   "cell_type": "markdown",
   "metadata": {},
   "source": [
    "### Stemmer"
   ]
  },
  {
   "cell_type": "code",
   "execution_count": 29,
   "metadata": {},
   "outputs": [
    {
     "data": {
      "text/html": [
       "<div>\n",
       "<style scoped>\n",
       "    .dataframe tbody tr th:only-of-type {\n",
       "        vertical-align: middle;\n",
       "    }\n",
       "\n",
       "    .dataframe tbody tr th {\n",
       "        vertical-align: top;\n",
       "    }\n",
       "\n",
       "    .dataframe thead th {\n",
       "        text-align: right;\n",
       "    }\n",
       "</style>\n",
       "<table border=\"1\" class=\"dataframe\">\n",
       "  <thead>\n",
       "    <tr style=\"text-align: right;\">\n",
       "      <th></th>\n",
       "      <th>original word</th>\n",
       "      <th>stemmed</th>\n",
       "    </tr>\n",
       "  </thead>\n",
       "  <tbody>\n",
       "    <tr>\n",
       "      <th>0</th>\n",
       "      <td>caresses</td>\n",
       "      <td>caress</td>\n",
       "    </tr>\n",
       "    <tr>\n",
       "      <th>1</th>\n",
       "      <td>flies</td>\n",
       "      <td>fli</td>\n",
       "    </tr>\n",
       "    <tr>\n",
       "      <th>2</th>\n",
       "      <td>dies</td>\n",
       "      <td>die</td>\n",
       "    </tr>\n",
       "    <tr>\n",
       "      <th>3</th>\n",
       "      <td>mules</td>\n",
       "      <td>mule</td>\n",
       "    </tr>\n",
       "    <tr>\n",
       "      <th>4</th>\n",
       "      <td>denied</td>\n",
       "      <td>deni</td>\n",
       "    </tr>\n",
       "    <tr>\n",
       "      <th>5</th>\n",
       "      <td>died</td>\n",
       "      <td>die</td>\n",
       "    </tr>\n",
       "    <tr>\n",
       "      <th>6</th>\n",
       "      <td>agreed</td>\n",
       "      <td>agre</td>\n",
       "    </tr>\n",
       "    <tr>\n",
       "      <th>7</th>\n",
       "      <td>owned</td>\n",
       "      <td>own</td>\n",
       "    </tr>\n",
       "    <tr>\n",
       "      <th>8</th>\n",
       "      <td>humbled</td>\n",
       "      <td>humbl</td>\n",
       "    </tr>\n",
       "    <tr>\n",
       "      <th>9</th>\n",
       "      <td>sized</td>\n",
       "      <td>size</td>\n",
       "    </tr>\n",
       "    <tr>\n",
       "      <th>10</th>\n",
       "      <td>meeting</td>\n",
       "      <td>meet</td>\n",
       "    </tr>\n",
       "    <tr>\n",
       "      <th>11</th>\n",
       "      <td>stating</td>\n",
       "      <td>state</td>\n",
       "    </tr>\n",
       "    <tr>\n",
       "      <th>12</th>\n",
       "      <td>siezing</td>\n",
       "      <td>siez</td>\n",
       "    </tr>\n",
       "  </tbody>\n",
       "</table>\n",
       "</div>"
      ],
      "text/plain": [
       "   original word stemmed\n",
       "0       caresses  caress\n",
       "1          flies     fli\n",
       "2           dies     die\n",
       "3          mules    mule\n",
       "4         denied    deni\n",
       "5           died     die\n",
       "6         agreed    agre\n",
       "7          owned     own\n",
       "8        humbled   humbl\n",
       "9          sized    size\n",
       "10       meeting    meet\n",
       "11       stating   state\n",
       "12       siezing    siez"
      ]
     },
     "execution_count": 29,
     "metadata": {},
     "output_type": "execute_result"
    }
   ],
   "source": [
    "stemmer = SnowballStemmer('english')\n",
    "original_words = ['caresses', 'flies', 'dies', 'mules', 'denied','died', 'agreed', 'owned', \n",
    "           'humbled', 'sized','meeting', 'stating', 'siezing']\n",
    "singles = [stemmer.stem(plural) for plural in original_words]\n",
    "pd.DataFrame(data = {'original word': original_words, 'stemmed': singles})"
   ]
  },
  {
   "cell_type": "markdown",
   "metadata": {},
   "source": [
    "### Tokenizer and Preprocessor"
   ]
  },
  {
   "cell_type": "code",
   "execution_count": 297,
   "metadata": {},
   "outputs": [],
   "source": [
    "stop_words = stopwords.words('english')\n",
    "stop_words.extend(['would'])\n",
    "punctuation = string.punctuation"
   ]
  },
  {
   "cell_type": "code",
   "execution_count": 309,
   "metadata": {},
   "outputs": [],
   "source": [
    "def preprocessor(text):\n",
    "    stopwordremoval = \" \".join([i for i in text.lower().split() if i not in stop_words])\n",
    "    punctuationremoval = ''.join(ch for ch in stopwordremoval if ch not in punctuation)\n",
    "    normalized = \" \".join(lemmatizer.lemmatize(word) for word in punctuationremoval.split())\n",
    "    return normalized.split()"
   ]
  },
  {
   "cell_type": "markdown",
   "metadata": {},
   "source": [
    "### Data"
   ]
  },
  {
   "cell_type": "code",
   "execution_count": 288,
   "metadata": {},
   "outputs": [],
   "source": [
    "happy_reviews = pd.read_csv('data/hotel_happy_reviews.csv')\n",
    "unhappy_reviews = pd.read_csv('data/hotel_not_happy_reviews.csv')"
   ]
  },
  {
   "cell_type": "code",
   "execution_count": 289,
   "metadata": {},
   "outputs": [
    {
     "data": {
      "text/html": [
       "<div>\n",
       "<style scoped>\n",
       "    .dataframe tbody tr th:only-of-type {\n",
       "        vertical-align: middle;\n",
       "    }\n",
       "\n",
       "    .dataframe tbody tr th {\n",
       "        vertical-align: top;\n",
       "    }\n",
       "\n",
       "    .dataframe thead th {\n",
       "        text-align: right;\n",
       "    }\n",
       "</style>\n",
       "<table border=\"1\" class=\"dataframe\">\n",
       "  <thead>\n",
       "    <tr style=\"text-align: right;\">\n",
       "      <th></th>\n",
       "      <th>User_ID</th>\n",
       "      <th>Description</th>\n",
       "      <th>Is_Response</th>\n",
       "      <th>hotel_ID</th>\n",
       "    </tr>\n",
       "  </thead>\n",
       "  <tbody>\n",
       "    <tr>\n",
       "      <th>0</th>\n",
       "      <td>id10329</td>\n",
       "      <td>Stayed here with husband and sons on the way t...</td>\n",
       "      <td>happy</td>\n",
       "      <td>8</td>\n",
       "    </tr>\n",
       "    <tr>\n",
       "      <th>1</th>\n",
       "      <td>id10331</td>\n",
       "      <td>We had - rooms. One was very nice and clearly ...</td>\n",
       "      <td>happy</td>\n",
       "      <td>3</td>\n",
       "    </tr>\n",
       "    <tr>\n",
       "      <th>2</th>\n",
       "      <td>id10333</td>\n",
       "      <td>My wife &amp; I stayed in this glorious city a whi...</td>\n",
       "      <td>happy</td>\n",
       "      <td>3</td>\n",
       "    </tr>\n",
       "    <tr>\n",
       "      <th>3</th>\n",
       "      <td>id10334</td>\n",
       "      <td>My boyfriend and I stayed at the Fairmont on a...</td>\n",
       "      <td>happy</td>\n",
       "      <td>7</td>\n",
       "    </tr>\n",
       "    <tr>\n",
       "      <th>4</th>\n",
       "      <td>id10336</td>\n",
       "      <td>Steps off Times Square, nice rooms, stayed - n...</td>\n",
       "      <td>happy</td>\n",
       "      <td>3</td>\n",
       "    </tr>\n",
       "  </tbody>\n",
       "</table>\n",
       "</div>"
      ],
      "text/plain": [
       "   User_ID                                        Description Is_Response  \\\n",
       "0  id10329  Stayed here with husband and sons on the way t...       happy   \n",
       "1  id10331  We had - rooms. One was very nice and clearly ...       happy   \n",
       "2  id10333  My wife & I stayed in this glorious city a whi...       happy   \n",
       "3  id10334  My boyfriend and I stayed at the Fairmont on a...       happy   \n",
       "4  id10336  Steps off Times Square, nice rooms, stayed - n...       happy   \n",
       "\n",
       "   hotel_ID  \n",
       "0         8  \n",
       "1         3  \n",
       "2         3  \n",
       "3         7  \n",
       "4         3  "
      ]
     },
     "execution_count": 289,
     "metadata": {},
     "output_type": "execute_result"
    }
   ],
   "source": [
    "happy_reviews.head()"
   ]
  },
  {
   "cell_type": "code",
   "execution_count": 290,
   "metadata": {},
   "outputs": [
    {
     "data": {
      "text/html": [
       "<div>\n",
       "<style scoped>\n",
       "    .dataframe tbody tr th:only-of-type {\n",
       "        vertical-align: middle;\n",
       "    }\n",
       "\n",
       "    .dataframe tbody tr th {\n",
       "        vertical-align: top;\n",
       "    }\n",
       "\n",
       "    .dataframe thead th {\n",
       "        text-align: right;\n",
       "    }\n",
       "</style>\n",
       "<table border=\"1\" class=\"dataframe\">\n",
       "  <thead>\n",
       "    <tr style=\"text-align: right;\">\n",
       "      <th></th>\n",
       "      <th>User_ID</th>\n",
       "      <th>Description</th>\n",
       "      <th>Is_Response</th>\n",
       "      <th>hotel_ID</th>\n",
       "    </tr>\n",
       "  </thead>\n",
       "  <tbody>\n",
       "    <tr>\n",
       "      <th>0</th>\n",
       "      <td>id10326</td>\n",
       "      <td>The room was kind of clean but had a VERY stro...</td>\n",
       "      <td>not happy</td>\n",
       "      <td>3</td>\n",
       "    </tr>\n",
       "    <tr>\n",
       "      <th>1</th>\n",
       "      <td>id10327</td>\n",
       "      <td>I stayed at the Crown Plaza April -- - April -...</td>\n",
       "      <td>not happy</td>\n",
       "      <td>9</td>\n",
       "    </tr>\n",
       "    <tr>\n",
       "      <th>2</th>\n",
       "      <td>id10328</td>\n",
       "      <td>I booked this hotel through Hotwire at the low...</td>\n",
       "      <td>not happy</td>\n",
       "      <td>3</td>\n",
       "    </tr>\n",
       "    <tr>\n",
       "      <th>3</th>\n",
       "      <td>id10330</td>\n",
       "      <td>My girlfriends and I stayed here to celebrate ...</td>\n",
       "      <td>not happy</td>\n",
       "      <td>3</td>\n",
       "    </tr>\n",
       "    <tr>\n",
       "      <th>4</th>\n",
       "      <td>id10332</td>\n",
       "      <td>My husband and I have stayed in this hotel a f...</td>\n",
       "      <td>not happy</td>\n",
       "      <td>7</td>\n",
       "    </tr>\n",
       "  </tbody>\n",
       "</table>\n",
       "</div>"
      ],
      "text/plain": [
       "   User_ID                                        Description Is_Response  \\\n",
       "0  id10326  The room was kind of clean but had a VERY stro...   not happy   \n",
       "1  id10327  I stayed at the Crown Plaza April -- - April -...   not happy   \n",
       "2  id10328  I booked this hotel through Hotwire at the low...   not happy   \n",
       "3  id10330  My girlfriends and I stayed here to celebrate ...   not happy   \n",
       "4  id10332  My husband and I have stayed in this hotel a f...   not happy   \n",
       "\n",
       "   hotel_ID  \n",
       "0         3  \n",
       "1         9  \n",
       "2         3  \n",
       "3         3  \n",
       "4         7  "
      ]
     },
     "execution_count": 290,
     "metadata": {},
     "output_type": "execute_result"
    }
   ],
   "source": [
    "unhappy_reviews.head()"
   ]
  },
  {
   "cell_type": "code",
   "execution_count": 310,
   "metadata": {},
   "outputs": [
    {
     "data": {
      "text/plain": [
       "['room',\n",
       " 'kind',\n",
       " 'clean',\n",
       " 'strong',\n",
       " 'smell',\n",
       " 'dog',\n",
       " 'generally',\n",
       " 'average',\n",
       " 'ok',\n",
       " 'overnight',\n",
       " 'stay',\n",
       " 'fussy',\n",
       " 'consider',\n",
       " 'staying',\n",
       " 'price',\n",
       " 'right',\n",
       " 'breakfast',\n",
       " 'free',\n",
       " 'better',\n",
       " 'nothing']"
      ]
     },
     "execution_count": 310,
     "metadata": {},
     "output_type": "execute_result"
    }
   ],
   "source": [
    "preprocessor(unhappy_reviews['Description'][0])"
   ]
  },
  {
   "cell_type": "code",
   "execution_count": 293,
   "metadata": {},
   "outputs": [],
   "source": [
    "happy_reviews = happy_reviews.assign(happy=1)\n",
    "unhappy_reviews = unhappy_reviews.assign(happy=0)"
   ]
  },
  {
   "cell_type": "code",
   "execution_count": 506,
   "metadata": {},
   "outputs": [],
   "source": [
    "reviews = pd.concat([happy_reviews, unhappy_reviews], ignore_index = True)"
   ]
  },
  {
   "cell_type": "code",
   "execution_count": 342,
   "metadata": {},
   "outputs": [],
   "source": [
    "cleaned_reviews=reviews['Description'].apply(preprocessor)"
   ]
  },
  {
   "cell_type": "code",
   "execution_count": 507,
   "metadata": {},
   "outputs": [],
   "source": [
    "reviews.insert(loc=2, column='tokens', value=cleaned_reviews)"
   ]
  },
  {
   "cell_type": "code",
   "execution_count": 405,
   "metadata": {},
   "outputs": [
    {
     "data": {
      "image/png": "[encoded data removed]",
      "text/plain": [
       "<Figure size 432x288 with 1 Axes>"
      ]
     },
     "metadata": {},
     "output_type": "display_data"
    }
   ],
   "source": [
    "reviews['Is_Response'].value_counts().sort_index().plot(kind='bar');\n",
    "plt.ylabel(\"Count\");\n",
    "plt.xlabel(\"Reviews\");"
   ]
  },
  {
   "cell_type": "code",
   "execution_count": 409,
   "metadata": {},
   "outputs": [
    {
     "data": {
      "image/png": "[encoded data removed]",
      "text/plain": [
       "<Figure size 432x288 with 1 Axes>"
      ]
     },
     "metadata": {},
     "output_type": "display_data"
    }
   ],
   "source": [
    "reviews['hotel_ID'].value_counts().sort_index().plot(kind='bar');\n",
    "plt.ylabel(\"Count\");\n",
    "plt.xlabel(\"Hotel_ID\");"
   ]
  },
  {
   "cell_type": "code",
   "execution_count": 411,
   "metadata": {},
   "outputs": [],
   "source": [
    "review_lengths = reviews['tokens'].apply(len)"
   ]
  },
  {
   "cell_type": "code",
   "execution_count": 415,
   "metadata": {},
   "outputs": [
    {
     "data": {
      "image/png": "[encoded data removed]",
      "text/plain": [
       "<Figure size 360x360 with 1 Axes>"
      ]
     },
     "metadata": {},
     "output_type": "display_data"
    }
   ],
   "source": [
    "fig = plt.figure(figsize=(5,5))\n",
    "plt.hist(review_lengths, bins=50)\n",
    "plt.xlabel('Length of Review')\n",
    "plt.ylabel('Number of Reviews')\n",
    "plt.show()"
   ]
  },
  {
   "cell_type": "markdown",
   "metadata": {},
   "source": [
    "### Now find the cateogories"
   ]
  },
  {
   "cell_type": "code",
   "execution_count": 425,
   "metadata": {},
   "outputs": [],
   "source": [
    "dictionary = gensim.corpora.Dictionary(reviews['tokens'])"
   ]
  },
  {
   "cell_type": "code",
   "execution_count": 426,
   "metadata": {
    "scrolled": true
   },
   "outputs": [],
   "source": [
    "dictionary.filter_extremes(no_below=15, no_above=0.5, keep_n=100000)"
   ]
  },
  {
   "cell_type": "code",
   "execution_count": 365,
   "metadata": {},
   "outputs": [],
   "source": [
    "bow_corpus = [dictionary.doc2bow(doc) for doc in reviews['tokens']]"
   ]
  },
  {
   "cell_type": "code",
   "execution_count": 366,
   "metadata": {},
   "outputs": [],
   "source": [
    "tfidf = models.TfidfModel(bow_corpus)"
   ]
  },
  {
   "cell_type": "code",
   "execution_count": 367,
   "metadata": {},
   "outputs": [],
   "source": [
    "corpus_tfidf = tfidf[bow_corpus]"
   ]
  },
  {
   "cell_type": "code",
   "execution_count": 522,
   "metadata": {},
   "outputs": [],
   "source": [
    "lda_model = gensim.models.LdaMulticore(corpus_tfidf, num_topics=15, id2word=dictionary, passes=2, workers=2)"
   ]
  },
  {
   "cell_type": "code",
   "execution_count": 529,
   "metadata": {},
   "outputs": [
    {
     "data": {
      "text/plain": [
       "[(0,\n",
       "  '0.004*\"square\" + 0.004*\"location\" + 0.004*\"union\" + 0.004*\"great\" + 0.004*\"wharf\" + 0.004*\"good\" + 0.004*\"san\" + 0.003*\"walk\" + 0.003*\"fisherman\" + 0.003*\"francisco\"'),\n",
       " (1,\n",
       "  '0.004*\"good\" + 0.004*\"great\" + 0.004*\"location\" + 0.003*\"walk\" + 0.003*\"breakfast\" + 0.003*\"clean\" + 0.003*\"restaurant\" + 0.003*\"nice\" + 0.003*\"free\" + 0.003*\"close\"'),\n",
       " (2,\n",
       "  '0.003*\"bathroom\" + 0.003*\"small\" + 0.003*\"bed\" + 0.003*\"good\" + 0.003*\"filthy\" + 0.003*\"broken\" + 0.003*\"floor\" + 0.003*\"night\" + 0.002*\"breakfast\" + 0.002*\"old\"'),\n",
       " (3,\n",
       "  '0.004*\"nasty\" + 0.003*\"good\" + 0.003*\"service\" + 0.003*\"nice\" + 0.003*\"great\" + 0.003*\"location\" + 0.002*\"restaurant\" + 0.002*\"area\" + 0.002*\"stay\" + 0.002*\"stayed\"'),\n",
       " (4,\n",
       "  '0.003*\"u\" + 0.003*\"time\" + 0.002*\"night\" + 0.002*\"one\" + 0.002*\"service\" + 0.002*\"desk\" + 0.002*\"day\" + 0.002*\"new\" + 0.002*\"stay\" + 0.002*\"like\"'),\n",
       " (5,\n",
       "  '0.005*\"great\" + 0.004*\"staff\" + 0.004*\"torn\" + 0.004*\"overbooked\" + 0.004*\"service\" + 0.004*\"wonderful\" + 0.004*\"friendly\" + 0.004*\"stay\" + 0.003*\"ant\" + 0.003*\"helpful\"'),\n",
       " (6,\n",
       "  '0.005*\"broken\" + 0.003*\"good\" + 0.003*\"location\" + 0.003*\"great\" + 0.003*\"bed\" + 0.003*\"nice\" + 0.003*\"small\" + 0.002*\"bathroom\" + 0.002*\"leak\" + 0.002*\"stay\"'),\n",
       " (7,\n",
       "  '0.007*\"egg\" + 0.006*\"breakfast\" + 0.005*\"fruit\" + 0.005*\"cereal\" + 0.004*\"juice\" + 0.004*\"waffle\" + 0.004*\"toast\" + 0.004*\"sausage\" + 0.003*\"great\" + 0.003*\"clean\"'),\n",
       " (8,\n",
       "  '0.003*\"one\" + 0.003*\"u\" + 0.003*\"night\" + 0.003*\"desk\" + 0.003*\"told\" + 0.003*\"get\" + 0.003*\"front\" + 0.003*\"like\" + 0.003*\"day\" + 0.003*\"could\"'),\n",
       " (9,\n",
       "  '0.006*\"roach\" + 0.005*\"dog\" + 0.005*\"crawling\" + 0.005*\"pet\" + 0.004*\"stink\" + 0.004*\"ancient\" + 0.003*\"mgr\" + 0.003*\"magnolia\" + 0.003*\"clean\" + 0.003*\"great\"'),\n",
       " (10,\n",
       "  '0.005*\"redone\" + 0.004*\"partying\" + 0.004*\"dial\" + 0.004*\"ha\" + 0.004*\"wire\" + 0.004*\"great\" + 0.003*\"clean\" + 0.003*\"nice\" + 0.003*\"suv\" + 0.003*\"friendly\"'),\n",
       " (11,\n",
       "  '0.005*\"san\" + 0.005*\"great\" + 0.004*\"nice\" + 0.004*\"pool\" + 0.004*\"good\" + 0.004*\"downtown\" + 0.004*\"clean\" + 0.004*\"diego\" + 0.003*\"area\" + 0.003*\"service\"'),\n",
       " (12,\n",
       "  '0.005*\"great\" + 0.004*\"staff\" + 0.004*\"wonderful\" + 0.004*\"location\" + 0.004*\"stay\" + 0.003*\"service\" + 0.003*\"ruined\" + 0.003*\"friendly\" + 0.003*\"perfect\" + 0.003*\"helpful\"'),\n",
       " (13,\n",
       "  '0.003*\"great\" + 0.003*\"nice\" + 0.003*\"good\" + 0.003*\"clean\" + 0.003*\"breakfast\" + 0.003*\"area\" + 0.003*\"restaurant\" + 0.003*\"location\" + 0.002*\"staff\" + 0.002*\"metro\"'),\n",
       " (14,\n",
       "  '0.004*\"great\" + 0.003*\"staff\" + 0.003*\"good\" + 0.003*\"new\" + 0.003*\"service\" + 0.003*\"location\" + 0.003*\"stay\" + 0.003*\"stayed\" + 0.003*\"york\" + 0.002*\"nice\"')]"
      ]
     },
     "execution_count": 529,
     "metadata": {},
     "output_type": "execute_result"
    }
   ],
   "source": [
    "lda_model.print_topics()"
   ]
  },
  {
   "cell_type": "code",
   "execution_count": 504,
   "metadata": {},
   "outputs": [
    {
     "data": {
      "text/plain": [
       "[(0, 0.071632616), (6, 0.041969255), (14, 0.77521986)]"
      ]
     },
     "execution_count": 504,
     "metadata": {},
     "output_type": "execute_result"
    }
   ],
   "source": [
    "lda_model[corpus_tfidf[3]]"
   ]
  },
  {
   "cell_type": "code",
   "execution_count": 524,
   "metadata": {},
   "outputs": [],
   "source": [
    "topics =[]\n",
    "topic_scores = []\n",
    "for i in range(len(reviews['tokens'])):\n",
    "    topics = {}\n",
    "    for index, score in lda_model[corpus_tfidf[i]]:\n",
    "        topics[index]=score \n",
    "    topic_scores.append(topics)"
   ]
  },
  {
   "cell_type": "code",
   "execution_count": 525,
   "metadata": {},
   "outputs": [],
   "source": [
    "topics = pd.DataFrame(topic_scores)"
   ]
  },
  {
   "cell_type": "code",
   "execution_count": 526,
   "metadata": {},
   "outputs": [],
   "source": [
    "reviews_ = pd.concat([reviews, topics.fillna(0)], axis = 1)"
   ]
  },
  {
   "cell_type": "code",
   "execution_count": 530,
   "metadata": {},
   "outputs": [
    {
     "data": {
      "text/html": [
       "<div>\n",
       "<style scoped>\n",
       "    .dataframe tbody tr th:only-of-type {\n",
       "        vertical-align: middle;\n",
       "    }\n",
       "\n",
       "    .dataframe tbody tr th {\n",
       "        vertical-align: top;\n",
       "    }\n",
       "\n",
       "    .dataframe thead th {\n",
       "        text-align: right;\n",
       "    }\n",
       "</style>\n",
       "<table border=\"1\" class=\"dataframe\">\n",
       "  <thead>\n",
       "    <tr style=\"text-align: right;\">\n",
       "      <th></th>\n",
       "      <th>User_ID</th>\n",
       "      <th>Description</th>\n",
       "      <th>tokens</th>\n",
       "      <th>Is_Response</th>\n",
       "      <th>hotel_ID</th>\n",
       "      <th>happy</th>\n",
       "      <th>0</th>\n",
       "      <th>1</th>\n",
       "      <th>2</th>\n",
       "      <th>3</th>\n",
       "      <th>...</th>\n",
       "      <th>5</th>\n",
       "      <th>6</th>\n",
       "      <th>7</th>\n",
       "      <th>8</th>\n",
       "      <th>9</th>\n",
       "      <th>10</th>\n",
       "      <th>11</th>\n",
       "      <th>12</th>\n",
       "      <th>13</th>\n",
       "      <th>14</th>\n",
       "    </tr>\n",
       "  </thead>\n",
       "  <tbody>\n",
       "    <tr>\n",
       "      <th>7</th>\n",
       "      <td>id10340</td>\n",
       "      <td>I found the hotel clean and nicely located. Go...</td>\n",
       "      <td>[found, hotel, clean, nicely, located, good, f...</td>\n",
       "      <td>happy</td>\n",
       "      <td>3</td>\n",
       "      <td>1</td>\n",
       "      <td>0.012716</td>\n",
       "      <td>0.012716</td>\n",
       "      <td>0.012716</td>\n",
       "      <td>0.012716</td>\n",
       "      <td>...</td>\n",
       "      <td>0.012716</td>\n",
       "      <td>0.012716</td>\n",
       "      <td>0.012716</td>\n",
       "      <td>0.012716</td>\n",
       "      <td>0.821975</td>\n",
       "      <td>0.012716</td>\n",
       "      <td>0.012716</td>\n",
       "      <td>0.012716</td>\n",
       "      <td>0.012716</td>\n",
       "      <td>0.012716</td>\n",
       "    </tr>\n",
       "    <tr>\n",
       "      <th>159</th>\n",
       "      <td>id10573</td>\n",
       "      <td>The hotel was definitely the best place I have...</td>\n",
       "      <td>[hotel, definitely, best, place, stayed, nyc, ...</td>\n",
       "      <td>happy</td>\n",
       "      <td>8</td>\n",
       "      <td>1</td>\n",
       "      <td>0.016156</td>\n",
       "      <td>0.016156</td>\n",
       "      <td>0.016156</td>\n",
       "      <td>0.016156</td>\n",
       "      <td>...</td>\n",
       "      <td>0.016157</td>\n",
       "      <td>0.016156</td>\n",
       "      <td>0.016156</td>\n",
       "      <td>0.016156</td>\n",
       "      <td>0.773809</td>\n",
       "      <td>0.016156</td>\n",
       "      <td>0.016156</td>\n",
       "      <td>0.016156</td>\n",
       "      <td>0.016156</td>\n",
       "      <td>0.016157</td>\n",
       "    </tr>\n",
       "    <tr>\n",
       "      <th>282</th>\n",
       "      <td>id10753</td>\n",
       "      <td>Our family of four stayed - nights at the Carl...</td>\n",
       "      <td>[family, four, stayed, night, carlyle, suite, ...</td>\n",
       "      <td>happy</td>\n",
       "      <td>4</td>\n",
       "      <td>1</td>\n",
       "      <td>0.000000</td>\n",
       "      <td>0.000000</td>\n",
       "      <td>0.000000</td>\n",
       "      <td>0.000000</td>\n",
       "      <td>...</td>\n",
       "      <td>0.000000</td>\n",
       "      <td>0.000000</td>\n",
       "      <td>0.000000</td>\n",
       "      <td>0.000000</td>\n",
       "      <td>0.324058</td>\n",
       "      <td>0.000000</td>\n",
       "      <td>0.000000</td>\n",
       "      <td>0.000000</td>\n",
       "      <td>0.556818</td>\n",
       "      <td>0.000000</td>\n",
       "    </tr>\n",
       "    <tr>\n",
       "      <th>418</th>\n",
       "      <td>id10950</td>\n",
       "      <td>this was a lovely boutique hotel that was sugg...</td>\n",
       "      <td>[lovely, boutique, hotel, suggested, u, friend...</td>\n",
       "      <td>happy</td>\n",
       "      <td>5</td>\n",
       "      <td>1</td>\n",
       "      <td>0.309660</td>\n",
       "      <td>0.011220</td>\n",
       "      <td>0.011220</td>\n",
       "      <td>0.011220</td>\n",
       "      <td>...</td>\n",
       "      <td>0.011220</td>\n",
       "      <td>0.011220</td>\n",
       "      <td>0.011220</td>\n",
       "      <td>0.011220</td>\n",
       "      <td>0.544480</td>\n",
       "      <td>0.011220</td>\n",
       "      <td>0.011220</td>\n",
       "      <td>0.011220</td>\n",
       "      <td>0.011220</td>\n",
       "      <td>0.011220</td>\n",
       "    </tr>\n",
       "    <tr>\n",
       "      <th>517</th>\n",
       "      <td>id11098</td>\n",
       "      <td>Another awesome visit and stay at Parc --\\r\\nS...</td>\n",
       "      <td>[another, awesome, visit, stay, parc, staff, f...</td>\n",
       "      <td>happy</td>\n",
       "      <td>6</td>\n",
       "      <td>1</td>\n",
       "      <td>0.017451</td>\n",
       "      <td>0.017451</td>\n",
       "      <td>0.017451</td>\n",
       "      <td>0.017451</td>\n",
       "      <td>...</td>\n",
       "      <td>0.017451</td>\n",
       "      <td>0.017451</td>\n",
       "      <td>0.017451</td>\n",
       "      <td>0.017451</td>\n",
       "      <td>0.755692</td>\n",
       "      <td>0.017451</td>\n",
       "      <td>0.017451</td>\n",
       "      <td>0.017451</td>\n",
       "      <td>0.017451</td>\n",
       "      <td>0.017451</td>\n",
       "    </tr>\n",
       "    <tr>\n",
       "      <th>...</th>\n",
       "      <td>...</td>\n",
       "      <td>...</td>\n",
       "      <td>...</td>\n",
       "      <td>...</td>\n",
       "      <td>...</td>\n",
       "      <td>...</td>\n",
       "      <td>...</td>\n",
       "      <td>...</td>\n",
       "      <td>...</td>\n",
       "      <td>...</td>\n",
       "      <td>...</td>\n",
       "      <td>...</td>\n",
       "      <td>...</td>\n",
       "      <td>...</td>\n",
       "      <td>...</td>\n",
       "      <td>...</td>\n",
       "      <td>...</td>\n",
       "      <td>...</td>\n",
       "      <td>...</td>\n",
       "      <td>...</td>\n",
       "      <td>...</td>\n",
       "    </tr>\n",
       "    <tr>\n",
       "      <th>36168</th>\n",
       "      <td>id40670</td>\n",
       "      <td>We stayed at the Homestead Suites for the Aust...</td>\n",
       "      <td>[stayed, homestead, suite, austin, city, limit...</td>\n",
       "      <td>not happy</td>\n",
       "      <td>4</td>\n",
       "      <td>0</td>\n",
       "      <td>0.014375</td>\n",
       "      <td>0.014375</td>\n",
       "      <td>0.014375</td>\n",
       "      <td>0.014375</td>\n",
       "      <td>...</td>\n",
       "      <td>0.014375</td>\n",
       "      <td>0.014375</td>\n",
       "      <td>0.014375</td>\n",
       "      <td>0.486897</td>\n",
       "      <td>0.326229</td>\n",
       "      <td>0.014375</td>\n",
       "      <td>0.014375</td>\n",
       "      <td>0.014375</td>\n",
       "      <td>0.014375</td>\n",
       "      <td>0.014375</td>\n",
       "    </tr>\n",
       "    <tr>\n",
       "      <th>36301</th>\n",
       "      <td>id41107</td>\n",
       "      <td>Husband and I stayed for a week . Hallways cou...</td>\n",
       "      <td>[husband, stayed, week, hallway, couldve, bett...</td>\n",
       "      <td>not happy</td>\n",
       "      <td>10</td>\n",
       "      <td>0</td>\n",
       "      <td>0.013919</td>\n",
       "      <td>0.013919</td>\n",
       "      <td>0.013919</td>\n",
       "      <td>0.013919</td>\n",
       "      <td>...</td>\n",
       "      <td>0.013919</td>\n",
       "      <td>0.013919</td>\n",
       "      <td>0.013919</td>\n",
       "      <td>0.013919</td>\n",
       "      <td>0.805130</td>\n",
       "      <td>0.013919</td>\n",
       "      <td>0.013919</td>\n",
       "      <td>0.013919</td>\n",
       "      <td>0.013919</td>\n",
       "      <td>0.013919</td>\n",
       "    </tr>\n",
       "    <tr>\n",
       "      <th>36603</th>\n",
       "      <td>id41974</td>\n",
       "      <td>TODOS PENSAMOS QUE UN HOTEL DE LA CATEGORIA DE...</td>\n",
       "      <td>[todos, pensamos, que, un, hotel, de, la, cate...</td>\n",
       "      <td>not happy</td>\n",
       "      <td>6</td>\n",
       "      <td>0</td>\n",
       "      <td>0.016841</td>\n",
       "      <td>0.016838</td>\n",
       "      <td>0.016838</td>\n",
       "      <td>0.016837</td>\n",
       "      <td>...</td>\n",
       "      <td>0.016837</td>\n",
       "      <td>0.016837</td>\n",
       "      <td>0.016837</td>\n",
       "      <td>0.016838</td>\n",
       "      <td>0.479267</td>\n",
       "      <td>0.227503</td>\n",
       "      <td>0.016837</td>\n",
       "      <td>0.016837</td>\n",
       "      <td>0.091176</td>\n",
       "      <td>0.016837</td>\n",
       "    </tr>\n",
       "    <tr>\n",
       "      <th>36926</th>\n",
       "      <td>id43029</td>\n",
       "      <td>We spent - nights at the Majestic, the hotel i...</td>\n",
       "      <td>[spent, night, majestic, hotel, bit, old, sure...</td>\n",
       "      <td>not happy</td>\n",
       "      <td>5</td>\n",
       "      <td>0</td>\n",
       "      <td>0.000000</td>\n",
       "      <td>0.000000</td>\n",
       "      <td>0.000000</td>\n",
       "      <td>0.380423</td>\n",
       "      <td>...</td>\n",
       "      <td>0.000000</td>\n",
       "      <td>0.000000</td>\n",
       "      <td>0.000000</td>\n",
       "      <td>0.000000</td>\n",
       "      <td>0.496536</td>\n",
       "      <td>0.000000</td>\n",
       "      <td>0.000000</td>\n",
       "      <td>0.000000</td>\n",
       "      <td>0.000000</td>\n",
       "      <td>0.000000</td>\n",
       "    </tr>\n",
       "    <tr>\n",
       "      <th>36996</th>\n",
       "      <td>id43215</td>\n",
       "      <td>This is a nice property but nothing like the o...</td>\n",
       "      <td>[nice, property, nothing, like, jws, stay, at,...</td>\n",
       "      <td>not happy</td>\n",
       "      <td>7</td>\n",
       "      <td>0</td>\n",
       "      <td>0.017892</td>\n",
       "      <td>0.017892</td>\n",
       "      <td>0.017892</td>\n",
       "      <td>0.017892</td>\n",
       "      <td>...</td>\n",
       "      <td>0.017892</td>\n",
       "      <td>0.017892</td>\n",
       "      <td>0.017892</td>\n",
       "      <td>0.017892</td>\n",
       "      <td>0.749508</td>\n",
       "      <td>0.017892</td>\n",
       "      <td>0.017892</td>\n",
       "      <td>0.017892</td>\n",
       "      <td>0.017892</td>\n",
       "      <td>0.017892</td>\n",
       "    </tr>\n",
       "  </tbody>\n",
       "</table>\n",
       "<p>185 rows × 21 columns</p>\n",
       "</div>"
      ],
      "text/plain": [
       "       User_ID                                        Description  \\\n",
       "7      id10340  I found the hotel clean and nicely located. Go...   \n",
       "159    id10573  The hotel was definitely the best place I have...   \n",
       "282    id10753  Our family of four stayed - nights at the Carl...   \n",
       "418    id10950  this was a lovely boutique hotel that was sugg...   \n",
       "517    id11098  Another awesome visit and stay at Parc --\\r\\nS...   \n",
       "...        ...                                                ...   \n",
       "36168  id40670  We stayed at the Homestead Suites for the Aust...   \n",
       "36301  id41107  Husband and I stayed for a week . Hallways cou...   \n",
       "36603  id41974  TODOS PENSAMOS QUE UN HOTEL DE LA CATEGORIA DE...   \n",
       "36926  id43029  We spent - nights at the Majestic, the hotel i...   \n",
       "36996  id43215  This is a nice property but nothing like the o...   \n",
       "\n",
       "                                                  tokens Is_Response  \\\n",
       "7      [found, hotel, clean, nicely, located, good, f...       happy   \n",
       "159    [hotel, definitely, best, place, stayed, nyc, ...       happy   \n",
       "282    [family, four, stayed, night, carlyle, suite, ...       happy   \n",
       "418    [lovely, boutique, hotel, suggested, u, friend...       happy   \n",
       "517    [another, awesome, visit, stay, parc, staff, f...       happy   \n",
       "...                                                  ...         ...   \n",
       "36168  [stayed, homestead, suite, austin, city, limit...   not happy   \n",
       "36301  [husband, stayed, week, hallway, couldve, bett...   not happy   \n",
       "36603  [todos, pensamos, que, un, hotel, de, la, cate...   not happy   \n",
       "36926  [spent, night, majestic, hotel, bit, old, sure...   not happy   \n",
       "36996  [nice, property, nothing, like, jws, stay, at,...   not happy   \n",
       "\n",
       "       hotel_ID  happy         0         1         2         3  ...         5  \\\n",
       "7             3      1  0.012716  0.012716  0.012716  0.012716  ...  0.012716   \n",
       "159           8      1  0.016156  0.016156  0.016156  0.016156  ...  0.016157   \n",
       "282           4      1  0.000000  0.000000  0.000000  0.000000  ...  0.000000   \n",
       "418           5      1  0.309660  0.011220  0.011220  0.011220  ...  0.011220   \n",
       "517           6      1  0.017451  0.017451  0.017451  0.017451  ...  0.017451   \n",
       "...         ...    ...       ...       ...       ...       ...  ...       ...   \n",
       "36168         4      0  0.014375  0.014375  0.014375  0.014375  ...  0.014375   \n",
       "36301        10      0  0.013919  0.013919  0.013919  0.013919  ...  0.013919   \n",
       "36603         6      0  0.016841  0.016838  0.016838  0.016837  ...  0.016837   \n",
       "36926         5      0  0.000000  0.000000  0.000000  0.380423  ...  0.000000   \n",
       "36996         7      0  0.017892  0.017892  0.017892  0.017892  ...  0.017892   \n",
       "\n",
       "              6         7         8         9        10        11        12  \\\n",
       "7      0.012716  0.012716  0.012716  0.821975  0.012716  0.012716  0.012716   \n",
       "159    0.016156  0.016156  0.016156  0.773809  0.016156  0.016156  0.016156   \n",
       "282    0.000000  0.000000  0.000000  0.324058  0.000000  0.000000  0.000000   \n",
       "418    0.011220  0.011220  0.011220  0.544480  0.011220  0.011220  0.011220   \n",
       "517    0.017451  0.017451  0.017451  0.755692  0.017451  0.017451  0.017451   \n",
       "...         ...       ...       ...       ...       ...       ...       ...   \n",
       "36168  0.014375  0.014375  0.486897  0.326229  0.014375  0.014375  0.014375   \n",
       "36301  0.013919  0.013919  0.013919  0.805130  0.013919  0.013919  0.013919   \n",
       "36603  0.016837  0.016837  0.016838  0.479267  0.227503  0.016837  0.016837   \n",
       "36926  0.000000  0.000000  0.000000  0.496536  0.000000  0.000000  0.000000   \n",
       "36996  0.017892  0.017892  0.017892  0.749508  0.017892  0.017892  0.017892   \n",
       "\n",
       "             13        14  \n",
       "7      0.012716  0.012716  \n",
       "159    0.016156  0.016157  \n",
       "282    0.556818  0.000000  \n",
       "418    0.011220  0.011220  \n",
       "517    0.017451  0.017451  \n",
       "...         ...       ...  \n",
       "36168  0.014375  0.014375  \n",
       "36301  0.013919  0.013919  \n",
       "36603  0.091176  0.016837  \n",
       "36926  0.000000  0.000000  \n",
       "36996  0.017892  0.017892  \n",
       "\n",
       "[185 rows x 21 columns]"
      ]
     },
     "execution_count": 530,
     "metadata": {},
     "output_type": "execute_result"
    }
   ],
   "source": [
    "reviews_[reviews_[9]>0.3]"
   ]
  },
  {
   "cell_type": "code",
   "execution_count": 528,
   "metadata": {},
   "outputs": [
    {
     "name": "stdout",
     "output_type": "stream",
     "text": [
      "\n",
      "Score: 0.7784066796302795\t \n",
      "Topic: 0.003*\"great\" + 0.003*\"nice\" + 0.003*\"good\" + 0.003*\"clean\" + 0.003*\"breakfast\" + 0.003*\"area\" + 0.003*\"restaurant\" + 0.003*\"location\" + 0.002*\"staff\" + 0.002*\"metro\"\n",
      "\n",
      "Score: 0.10118043422698975\t \n",
      "Topic: 0.006*\"roach\" + 0.005*\"dog\" + 0.005*\"crawling\" + 0.005*\"pet\" + 0.004*\"stink\" + 0.004*\"ancient\" + 0.003*\"mgr\" + 0.003*\"magnolia\" + 0.003*\"clean\" + 0.003*\"great\"\n"
     ]
    }
   ],
   "source": [
    "for index, score in sorted(lda_model[corpus_tfidf[3]], key=lambda tup: -1*tup[1]):\n",
    "    print(\"\\nScore: {}\\t \\nTopic: {}\".format(score, lda_model.print_topic(index, 10)))"
   ]
  },
  {
   "cell_type": "code",
   "execution_count": 274,
   "metadata": {
    "scrolled": true
   },
   "outputs": [
    {
     "data": {
      "text/plain": [
       "\"My girlfriends and I stayed here to celebrate our --th birthdays. We had planned this weekend getaway back in February, so we were all looking forward to it. There was - of us so we rented - ajoining rooms at the rate of $----night-room. We stayed - nights so with taxes and parking charges we spent in total over $----. All of us expected a certain level of service since we were staying at the Ritz, however this hotel certainly didn't meet what we would consider Ritz standards.\\r\\nThe rooms were fine. They were clean with well appointed bathrooms, but nothing to get excited about. The service however was awful. The first night we were there, I made -- calls to the bell man, before someone in hotel communications picked up the phone. Then on Saturday night before we left for dinner at -:--, we requested to have extra hotels delivered to our room and our trash removed. When we returned at --:--, neither request was fullfilled. I made another call to housekeeping and then finally things were taken care of. In my opinion, for the rates we were paying, we should have had nightly turn down service.\\r\\nI did speak with a manager when we checked out and he said he would make it worth our while to return, however all we received was a letter of apology.\\r\\nNeedless to say, we have no plans to return to this hotel. My husband and I stayed at the Four Seasons Boston in February of ---- and had a wonderful stay. The service there was impeccable as is service at all the Four Seaons that I have stayed at. If you are willing to pay Ritz Carlton prices, then I would recommend staying at the Four Seasons instead!\""
      ]
     },
     "execution_count": 274,
     "metadata": {},
     "output_type": "execute_result"
    }
   ],
   "source": [
    "unhappy_reviews['Description'][3]"
   ]
  },
  {
   "cell_type": "code",
   "execution_count": 620,
   "metadata": {},
   "outputs": [],
   "source": [
    "vectorizer = CountVectorizer(analyzer='word',       \n",
    "                             min_df=10,                        # minimum reqd occurences of a word \n",
    "                             stop_words='english',             # remove stop words\n",
    "                             lowercase=True,                   # convert all words to lowercase\n",
    "                             token_pattern='[a-zA-Z0-9]{3,}',  # num chars > 3\n",
    "                             # max_features=50000,             # max number of uniq words\n",
    "                            )\n",
    "\n",
    "tf = vectorizer.fit_transform(unhappy_reviews['Description'])"
   ]
  },
  {
   "cell_type": "code",
   "execution_count": 628,
   "metadata": {},
   "outputs": [
    {
     "data": {
      "text/plain": [
       "LatentDirichletAllocation(batch_size=128, doc_topic_prior=None,\n",
       "                          evaluate_every=-1, learning_decay=0.7,\n",
       "                          learning_method='online', learning_offset=10.0,\n",
       "                          max_doc_update_iter=100, max_iter=10,\n",
       "                          mean_change_tol=0.001, n_components=10, n_jobs=-1,\n",
       "                          perp_tol=0.1, random_state=100, topic_word_prior=None,\n",
       "                          total_samples=1000000.0, verbose=0)"
      ]
     },
     "execution_count": 628,
     "metadata": {},
     "output_type": "execute_result"
    }
   ],
   "source": [
    "lda = LatentDirichletAllocation(n_components=10,               # Number of topics\n",
    "                                      max_iter=10,               # Max learning iterations\n",
    "                                      learning_method='online',   \n",
    "                                      random_state=100,          # Random state\n",
    "                                      batch_size=128,            # n docs in each learning iter\n",
    "                                      evaluate_every = -1,       # compute perplexity every n iters, default: Don't\n",
    "                                      n_jobs = -1,               # Use all available CPUs\n",
    "                                     )\n",
    "\n",
    "lda.fit(tf)"
   ]
  },
  {
   "cell_type": "code",
   "execution_count": 629,
   "metadata": {},
   "outputs": [],
   "source": [
    "def print_top_words(model, feature_names, n_top_words):\n",
    "    for topic_idx, topic in enumerate(model.components_):\n",
    "        message = \"Topic #%d: \" % topic_idx\n",
    "        message += \" \".join([feature_names[i]\n",
    "                             for i in topic.argsort()[:-n_top_words - 1:-1]])\n",
    "        print(message)\n",
    "    print()"
   ]
  },
  {
   "cell_type": "code",
   "execution_count": 630,
   "metadata": {},
   "outputs": [
    {
     "data": {
      "text/plain": [
       "{'Topic #0: room bathroom bed shower floor',\n",
       " 'Topic #1: hotel service staff room stay',\n",
       " 'Topic #2: room hotel told desk said',\n",
       " 'Topic #3: room night hotel noise floor',\n",
       " 'Topic #4: hotel san rooms area location',\n",
       " 'Topic #5: place stay bed dirty sheets',\n",
       " 'Topic #6: hotel room location rooms good',\n",
       " 'Topic #7: room breakfast clean hotel air',\n",
       " 'Topic #8: room door like just don',\n",
       " 'Topic #9: hotel nice good parking great'}"
      ]
     },
     "execution_count": 630,
     "metadata": {},
     "output_type": "execute_result"
    }
   ],
   "source": [
    "topic_words = []\n",
    "feature_names = vectorizer.get_feature_names()\n",
    "\n",
    "for topic_idx, topic in enumerate(lda.components_):\n",
    "        message = \"Topic #%d: \" % topic_idx\n",
    "        message += \" \".join([feature_names[i]\n",
    "                             for i in topic.argsort()[:-5 - 1:-1]])\n",
    "        topic_words.append(message)\n",
    "set(topic_words)"
   ]
  },
  {
   "cell_type": "code",
   "execution_count": 632,
   "metadata": {},
   "outputs": [],
   "source": [
    "unhappy_topics = pd.concat([unhappy_reviews, pd.DataFrame(data=lda.transform(tf), columns=topic_words)], axis = 1)"
   ]
  },
  {
   "cell_type": "code",
   "execution_count": 634,
   "metadata": {},
   "outputs": [
    {
     "data": {
      "text/plain": [
       "7     260\n",
       "4     221\n",
       "3     161\n",
       "1     157\n",
       "5     124\n",
       "2      98\n",
       "8      78\n",
       "10     69\n",
       "9      44\n",
       "6      35\n",
       "Name: hotel_ID, dtype: int64"
      ]
     },
     "execution_count": 634,
     "metadata": {},
     "output_type": "execute_result"
    }
   ],
   "source": [
    "unhappy_topics[unhappy_topics['Topic #5: place stay bed dirty sheets']>0.1]['hotel_ID'].value_counts()"
   ]
  },
  {
   "cell_type": "code",
   "execution_count": null,
   "metadata": {},
   "outputs": [],
   "source": []
  }
 ],
 "metadata": {
  "kernelspec": {
   "display_name": "Python 3",
   "language": "python",
   "name": "python3"
  },
  "language_info": {
   "codemirror_mode": {
    "name": "ipython",
    "version": 3
   },
   "file_extension": ".py",
   "mimetype": "text/x-python",
   "name": "python",
   "nbconvert_exporter": "python",
   "pygments_lexer": "ipython3",
   "version": "3.8.1"
  }
 },
 "nbformat": 4,
 "nbformat_minor": 4
}
